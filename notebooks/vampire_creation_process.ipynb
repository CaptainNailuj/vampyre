{
 "cells": [
  {
   "cell_type": "code",
   "execution_count": 3,
   "metadata": {},
   "outputs": [],
   "source": [
    "# vampire 20th anniversary edition character creation\n",
    "DICT_BASE_ATTRIBUTES = {\n",
    "    'Physical':{'Strength':1,'Dexterity':1,'Stamina':1}, \n",
    "    'Social':{'Charisma':1,'Manipulation':1,'Appearance':1},\n",
    "    'Mental':{'Perception':1,'Intelligence':1,'Wits':1}\n",
    "    }\n",
    "\n",
    "DICT_BASE_ABILITIES = {\n",
    "    'talents' : {\n",
    "                \"Alertness\": 0,\n",
    "                \"Athletics\": 0,\n",
    "                \"Brawl\": 0,\n",
    "                \"Dodge\": 0,\n",
    "                \"Empathy\": 0,\n",
    "                \"Expression\": 0,\n",
    "                \"Intimidation\": 0,\n",
    "                \"Leadership\": 0,\n",
    "                \"Streetwise\": 0,\n",
    "                \"Subterfuge\": 0,\n",
    "            },\n",
    "    'skills' : {\n",
    "                \"Animal Ken\": 0,\n",
    "                \"Crafts\": 0,\n",
    "                \"Drive\": 0,\n",
    "                \"Etiquette\": 0,\n",
    "                \"Firearms\": 0,\n",
    "                \"Melee\": 0,\n",
    "                \"Performance\": 0,\n",
    "                \"Security\": 0,\n",
    "                \"Stealth\": 0,\n",
    "                \"Survival\": 0,\n",
    "            }, \n",
    "    'knowledges': {\n",
    "                \"Academics\": 0,\n",
    "                \"Computer\": 0,\n",
    "                \"Finance\": 0,\n",
    "                \"Investigation\": 0,\n",
    "                \"Law\": 0,\n",
    "                \"Medicine\": 0,\n",
    "                \"Occult\": 0,\n",
    "                \"Politics\": 0,\n",
    "                \"Science\": 0,\n",
    "                \"Technology\": 0,\n",
    "                }}\n",
    "ATTRIBUTE_POINTS =  [7,5,3]"
   ]
  },
  {
   "cell_type": "code",
   "execution_count": 62,
   "metadata": {},
   "outputs": [],
   "source": [
    "class BaseVampireBuilder:\n",
    "    def __init__(self, clan:str, generation:str, disciplines: list[str]):\n",
    "        self.__clan = clan\n",
    "        self.__generation = generation\n",
    "        self.__disciplines = disciplines\n",
    "        self.__dict_attributes = DICT_BASE_ATTRIBUTES.copy()"
   ]
  },
  {
   "cell_type": "markdown",
   "metadata": {},
   "source": [
    "Create an instance of the vampire builder, call the embracer.\n",
    "When the instance is created, the dictionaries for disciplines, attributes and abilities should be created with zero values."
   ]
  },
  {
   "cell_type": "code",
   "execution_count": 2,
   "metadata": {},
   "outputs": [],
   "source": [
    "clan = \"ventrue\"\n",
    "generation = \"9\"\n",
    "embracer = BaseVampireBuilder(clan, generation)"
   ]
  },
  {
   "cell_type": "markdown",
   "metadata": {},
   "source": [
    "Now, in order to fill the attributes and abilities, we need to set the priority order, which will define the maximum points each trait under and attribute or priority will have"
   ]
  },
  {
   "cell_type": "code",
   "execution_count": null,
   "metadata": {},
   "outputs": [],
   "source": [
    "embracer.set_attribute_priority(['Physical', 'Social', 'Mental'])\n",
    "embracer.set_ability_priority(['talents', 'skills', 'knowledges'])"
   ]
  },
  {
   "cell_type": "markdown",
   "metadata": {},
   "source": [
    "Now, when setting the attributes initial values, the class must check, based on the priorities if the total values corrrespond to the max values allowed."
   ]
  },
  {
   "cell_type": "code",
   "execution_count": null,
   "metadata": {},
   "outputs": [],
   "source": [
    "dict_init_attributes = {'Physical': {'Strength': 2, 'Dexterity': 2, 'Stamina': 2}, 'Social': {'Charisma': 2, 'Manipulation': 2, 'Appearance': 2}, 'Mental': {'Perception': 2, 'Intelligence': 2, 'Wits': 2}}\n",
    "dict_init_abilities = {'talents': {'Alertness': 2, 'Athletics': 2, 'Brawl': 2, 'Dodge': 2, 'Empathy': 2, 'Expression': 2, 'Intimidation': 2, 'Leadership': 2, 'Streetwise': 2, 'Subterfuge': 2}, \n",
    "                       'skills': {'Animal Ken': 2, 'Crafts': 2, 'Drive': 2, 'Etiquette': 2, 'Firearms': 2, 'Melee': 2, 'Performance': 2, 'Security': 2, 'Stealth': 2, 'Survival': 2}, \n",
    "                       'knowledges': {'Academics': 2, 'Computer': 2, 'Finance': 2, 'Investigation': 2, 'Law': 2, 'Medicine': 2, 'Occult': 2, 'Politics': 2, 'Science': 2, 'Technology': 2}}\n",
    "embracer.set_attribute_values(dict_init_attributes)\n",
    "embracer.set_ability_values(dict_init_abilities)"
   ]
  },
  {
   "cell_type": "code",
   "execution_count": null,
   "metadata": {},
   "outputs": [],
   "source": [
    "dict_clan_disciplines = {\n",
    "    \"Assamite\": [\"Celerity\", \"Obfuscate\", \"Quietus\"],\n",
    "    \"Brujah\": [\"Celerity\", \"Potence\", \"Presence\"],\n",
    "    \"Followers of Set\": [\"Obfuscate\", \"Presence\", \"Serpentis\"],\n",
    "    \"Gangrel\": [\"Animalism\", \"Fortitude\", \"Protean\"],\n",
    "    \"Giovanni\": [\"Dominate\", \"Necromancy\", \"Potence\"],\n",
    "    \"Lasombra\": [\"Dominate\", \"Obtenebration\", \"Potence\"],\n",
    "    \"Malkavian\": [\"Auspex\", \"Dementation\", \"Obfuscate\"],\n",
    "    \"Nosferatu\": [\"Animalism\", \"Obfuscate\", \"Potence\"],\n",
    "    \"Ravnos\": [\"Animalism\", \"Chimerstry\", \"Fortitude\"],\n",
    "    \"Toreador\": [\"Auspex\", \"Celerity\", \"Presence\"],\n",
    "    \"Tremere\": [\"Auspex\", \"Dominate\", \"Thaumaturgy\"],\n",
    "    \"Tzimisce\": [\"Animalism\", \"Auspex\", \"Vicissitude\"],\n",
    "    \"Ventrue\": [\"Dominate\", \"Fortitude\", \"Presence\"],\n",
    "    \"Caitiff\": [],\n",
    "    \"Thin-Blooded\": []\n",
    "}"
   ]
  },
  {
   "cell_type": "markdown",
   "metadata": {},
   "source": [
    "Now, you should set the disciplines. In this case its important to have a dictionary with the base disciplines of the class, but taking into consideration that not all the disciplines will be picked by the player. I.e. a player might choose to only go with one discipline and assign all the initial available points to it."
   ]
  },
  {
   "cell_type": "markdown",
   "metadata": {},
   "source": []
  }
 ],
 "metadata": {
  "kernelspec": {
   "display_name": "base_311",
   "language": "python",
   "name": "base_311"
  },
  "language_info": {
   "codemirror_mode": {
    "name": "ipython",
    "version": 3
   },
   "file_extension": ".py",
   "mimetype": "text/x-python",
   "name": "python",
   "nbconvert_exporter": "python",
   "pygments_lexer": "ipython3",
   "version": "3.11.0"
  }
 },
 "nbformat": 4,
 "nbformat_minor": 2
}
