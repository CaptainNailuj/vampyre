{
 "cells": [
  {
   "cell_type": "code",
   "execution_count": 3,
   "metadata": {},
   "outputs": [],
   "source": [
    "import pandas as pd\n",
    "import json"
   ]
  },
  {
   "cell_type": "code",
   "execution_count": 77,
   "metadata": {},
   "outputs": [],
   "source": [
    "examples = json.load(open(\"/home/julian/Documents/Projects/Vampire/BaseFiles/examples.json\"))"
   ]
  },
  {
   "cell_type": "code",
   "execution_count": 1,
   "metadata": {},
   "outputs": [],
   "source": [
    "import streamlit as st"
   ]
  },
  {
   "cell_type": "code",
   "execution_count": 4,
   "metadata": {},
   "outputs": [],
   "source": [
    "# This will be part of a setting file\n",
    "DICT_BASE_ATTRIBUTES = {\n",
    "    'Physical':{'Strength':1,'Dexterity':1,'Stamina':1}, \n",
    "    'Social':{'Charisma':1,'Manipulation':1,'Appearance':1},\n",
    "    'Mental':{'Perception':1,'Intelligence':1,'Wits':1}\n",
    "    }\n",
    "\n",
    "DICT_BASE_ABILITIES = {\n",
    "                'talents': {'alertness': 0,\n",
    "                'athletics': 0,\n",
    "                'brawl': 0,\n",
    "                'dodge': 0,\n",
    "                'empathy': 0,\n",
    "                'expression': 0,\n",
    "                'intimidation': 0,\n",
    "                'leadership': 0,\n",
    "                'streetwise': 0,\n",
    "                'subterfuge': 0},\n",
    "                'skills': {'animal ken': 0,\n",
    "                'crafts': 0,\n",
    "                'drive': 0,\n",
    "                'etiquette': 0,\n",
    "                'firearms': 0,\n",
    "                'melee': 0,\n",
    "                'performance': 0,\n",
    "                'stealth': 0,\n",
    "                'survival': 0},\n",
    "                'knowledges': {'academics': 0,\n",
    "                'computer': 0,\n",
    "                'finance': 0,\n",
    "                'investigation': 0,\n",
    "                'law': 0,\n",
    "                'medicine': 0,\n",
    "                'occult': 0,\n",
    "                'politics': 0,\n",
    "                'science': 0,\n",
    "                'technology': 0}}\n",
    "ATTRIBUTE_POINTS =  [7,5,3]"
   ]
  },
  {
   "cell_type": "code",
   "execution_count": 13,
   "metadata": {},
   "outputs": [
    {
     "data": {
      "text/plain": [
       "{'talents': {'alertness': 0,\n",
       "  'athletics': 0,\n",
       "  'brawl': 0,\n",
       "  'dodge': 0,\n",
       "  'empathy': 0,\n",
       "  'expression': 0,\n",
       "  'intimidation': 0,\n",
       "  'leadership': 0,\n",
       "  'streetwise': 0,\n",
       "  'subterfuge': 0},\n",
       " 'skills': {'animal ken': 0,\n",
       "  'crafts': 0,\n",
       "  'drive': 0,\n",
       "  'etiquette': 0,\n",
       "  'firearms': 0,\n",
       "  'melee': 0,\n",
       "  'performance': 0,\n",
       "  'stealth': 0,\n",
       "  'survival': 0},\n",
       " 'knowledges': {'academics': 0,\n",
       "  'computer': 0,\n",
       "  'finance': 0,\n",
       "  'investigation': 0,\n",
       "  'law': 0,\n",
       "  'medicine': 0,\n",
       "  'occult': 0,\n",
       "  'politics': 0,\n",
       "  'science': 0,\n",
       "  'technology': 0}}"
      ]
     },
     "execution_count": 13,
     "metadata": {},
     "output_type": "execute_result"
    }
   ],
   "source": [
    "DICT_BASE_ABILITIES"
   ]
  },
  {
   "cell_type": "code",
   "execution_count": 12,
   "metadata": {},
   "outputs": [],
   "source": [
    "for entry in DICT_BASE_ABILITIES:\n",
    "    dict_entry = DICT_BASE_ABILITIES[entry]\n",
    "    dict_entry = {key.lower(): dict_entry[key] for key in dict_entry}\n",
    "    DICT_BASE_ABILITIES[entry] = dict_entry"
   ]
  },
  {
   "cell_type": "code",
   "execution_count": 8,
   "metadata": {},
   "outputs": [],
   "source": [
    "json.dump(DICT_BASE_ABILITIES, open(\"../util_files/base_abilities.json\", \"w\"))"
   ]
  },
  {
   "cell_type": "code",
   "execution_count": 21,
   "metadata": {},
   "outputs": [],
   "source": [
    "DICT_CLANS_INITIAL_DISCPLINES = {\n",
    "  \"assamite\": [\"celerity\", \"obfuscate\", \"quietus\"],\n",
    "  \"brujah\": [\"celerity\", \"potence\", \"presence\"],\n",
    "  \"followers of set\": [\"obfuscate\", \"presence\", \"serpentis\"],\n",
    "  \"gangrel\": [\"animalism\", \"fortitude\", \"protean\"],\n",
    "  \"giovanni\": [\"dominate\", \"necromancy\", \"potence\"],\n",
    "  \"lasombra\": [\"dominate\", \"obtenebration\", \"potence\"],\n",
    "  \"malkavian\": [\"auspex\", \"dementation\", \"obfuscate\"],\n",
    "  \"nosferatu\": [\"animalism\", \"obfuscate\", \"potence\"],\n",
    "  \"ravnos\": [\"animalism\", \"chimerstry\", \"fortitude\"],\n",
    "  \"toreador\": [\"auspex\", \"celerity\", \"presence\"],\n",
    "  \"tremere\": [\"auspex\", \"dominate\", \"thaumaturgy\"],\n",
    "  \"tzimisce\": [\"animalism\", \"auspex\", \"vicissitude\"],\n",
    "  \"ventrue\": [\"dominate\", \"fortitude\", \"presence\"],\n",
    "\n",
    "  \"baali\": [\"daimoinon\", \"obfuscate\", \"presence\"],\n",
    "  \"blood brothers\": [\"fortitude\", \"potence\", \"sanguinus\"],\n",
    "  \"caitiff\": [],\n",
    "  \"daughters of cacophony\": [\"fortitude\", \"melpominee\", \"presence\"],\n",
    "  \"gargoyle\": [\"fortitude\", \"potence\", \"visceratika\"],\n",
    "  \"harbingers of skulls\": [\"auspex\", \"fortitude\", \"necromancy\"],\n",
    "  \"kiasyd\": [\"dominate\", \"mytherceria\", \"obfuscate\"],\n",
    "  \"nagaraja\": [\"auspex\", \"dominate\", \"necromancy\"],\n",
    "  \"salubri\": [\"auspex\", \"fortitude\", \"obeah\"],\n",
    "  \"samedi\": [\"fortitude\", \"obfuscate\", \"thanatosis\"],\n",
    "  \"true brujah\": [\"potence\", \"presence\", \"temporis\"]\n",
    "}\n"
   ]
  },
  {
   "cell_type": "code",
   "execution_count": 25,
   "metadata": {},
   "outputs": [],
   "source": [
    "class BaseVampireBuilder:\n",
    "    def __init__(self, clan:str, generation:str):\n",
    "        self.__clan = clan\n",
    "        self.__generation = generation\n",
    "        self.__disciplines = DICT_CLANS_INITIAL_DISCPLINES[clan].copy()\n",
    "        self.__dict_attributes = DICT_BASE_ATTRIBUTES.copy()\n",
    "        self.__dict_abilities = DICT_BASE_ATTRIBUTES.copy()\n",
    "\n",
    "    def get_clan(self):\n",
    "        return self.__clan\n",
    "    def get_generation(self):\n",
    "        return self.__generation\n",
    "    def get_disciplines(self):\n",
    "        return self.__disciplines\n",
    "    def get_attributes(self):\n",
    "        return self.__dict_attributes\n",
    "    def get_abilities(self):\n",
    "        return self.__dict_abilities\n",
    "    \n",
    "        "
   ]
  },
  {
   "cell_type": "markdown",
   "metadata": {},
   "source": [
    "Create an instance of the vampire builder, call the embracer.\n",
    "When the instance is created, the dictionaries for disciplines, attributes and abilities should be created with zero values."
   ]
  },
  {
   "cell_type": "code",
   "execution_count": 26,
   "metadata": {},
   "outputs": [],
   "source": [
    "clan = \"ventrue\"\n",
    "generation = \"9\"\n",
    "embracer = BaseVampireBuilder(clan, generation)"
   ]
  },
  {
   "cell_type": "code",
   "execution_count": 27,
   "metadata": {},
   "outputs": [
    {
     "data": {
      "text/plain": [
       "{'Physical': {'Strength': 1, 'Dexterity': 1, 'Stamina': 1},\n",
       " 'Social': {'Charisma': 1, 'Manipulation': 1, 'Appearance': 1},\n",
       " 'Mental': {'Perception': 1, 'Intelligence': 1, 'Wits': 1}}"
      ]
     },
     "execution_count": 27,
     "metadata": {},
     "output_type": "execute_result"
    }
   ],
   "source": [
    "embracer.get_abilities()"
   ]
  },
  {
   "cell_type": "markdown",
   "metadata": {},
   "source": [
    "Now, in order to fill the attributes and abilities, we need to set the priority order, which will define the maximum points each trait under and attribute or priority will have"
   ]
  },
  {
   "cell_type": "code",
   "execution_count": null,
   "metadata": {},
   "outputs": [],
   "source": [
    "embracer.set_attribute_priority(['Physical', 'Social', 'Mental'])\n",
    "embracer.set_ability_priority(['talents', 'skills', 'knowledges'])"
   ]
  },
  {
   "cell_type": "markdown",
   "metadata": {},
   "source": [
    "Now, when setting the attributes initial values, the class must check, based on the priorities if the total values corrrespond to the max values allowed."
   ]
  },
  {
   "cell_type": "code",
   "execution_count": null,
   "metadata": {},
   "outputs": [],
   "source": [
    "dict_init_attributes = {'Physical': {'Strength': 2, 'Dexterity': 2, 'Stamina': 2}, 'Social': {'Charisma': 2, 'Manipulation': 2, 'Appearance': 2}, 'Mental': {'Perception': 2, 'Intelligence': 2, 'Wits': 2}}\n",
    "dict_init_abilities = {'talents': {'Alertness': 2, 'Athletics': 2, 'Brawl': 2, 'Dodge': 2, 'Empathy': 2, 'Expression': 2, 'Intimidation': 2, 'Leadership': 2, 'Streetwise': 2, 'Subterfuge': 2}, \n",
    "                       'skills': {'Animal Ken': 2, 'Crafts': 2, 'Drive': 2, 'Etiquette': 2, 'Firearms': 2, 'Melee': 2, 'Performance': 2, 'Security': 2, 'Stealth': 2, 'Survival': 2}, \n",
    "                       'knowledges': {'Academics': 2, 'Computer': 2, 'Finance': 2, 'Investigation': 2, 'Law': 2, 'Medicine': 2, 'Occult': 2, 'Politics': 2, 'Science': 2, 'Technology': 2}}\n",
    "embracer.set_attribute_values(dict_init_attributes)\n",
    "embracer.set_ability_values(dict_init_abilities)"
   ]
  },
  {
   "cell_type": "markdown",
   "metadata": {},
   "source": [
    "Now, you should set the disciplines. In this case its important to have a dictionary with the base disciplines of the class, but taking into consideration that not all the disciplines will be picked by the player. I.e. a player might choose to only go with one discipline and assign all the initial available points to it."
   ]
  }
 ],
 "metadata": {
  "kernelspec": {
   "display_name": "python_311",
   "language": "python",
   "name": "python3"
  },
  "language_info": {
   "codemirror_mode": {
    "name": "ipython",
    "version": 3
   },
   "file_extension": ".py",
   "mimetype": "text/x-python",
   "name": "python",
   "nbconvert_exporter": "python",
   "pygments_lexer": "ipython3",
   "version": "3.11.5"
  }
 },
 "nbformat": 4,
 "nbformat_minor": 2
}
